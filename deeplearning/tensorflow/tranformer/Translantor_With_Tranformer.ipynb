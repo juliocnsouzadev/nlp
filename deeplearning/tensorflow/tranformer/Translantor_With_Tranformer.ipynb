{
 "cells": [
  {
   "cell_type": "markdown",
   "metadata": {},
   "source": [
    "# Translator with Tranformer"
   ]
  },
  {
   "cell_type": "code",
   "execution_count": 1,
   "metadata": {},
   "outputs": [],
   "source": [
    "import numpy as np\n",
    "import math\n",
    "import re\n",
    "import time\n",
    "import tensorflow as tf\n",
    "from tensorflow.keras import layers\n",
    "import tensorflow_datasets as tfds"
   ]
  },
  {
   "cell_type": "code",
   "execution_count": 2,
   "metadata": {},
   "outputs": [],
   "source": [
    "with open(\n",
    "    '../../../datasets/pt-en/europarl-v7.pt-en.en',\n",
    "    mode = 'r',\n",
    "    encoding = 'utf-8' \n",
    ") as file:\n",
    "    data_en = file.read()\n",
    "\n",
    "with open(\n",
    "    '../../../datasets/pt-en/europarl-v7.pt-en.pt',\n",
    "    mode = 'r',\n",
    "    encoding = 'utf-8' \n",
    ") as file:\n",
    "    data_pt = file.read()"
   ]
  },
  {
   "cell_type": "markdown",
   "metadata": {},
   "source": [
    "## Cleaning data"
   ]
  },
  {
   "cell_type": "code",
   "execution_count": 4,
   "metadata": {},
   "outputs": [],
   "source": [
    "def get_clean_corpus(data):\n",
    "    corpus = data\n",
    "    corpus = re.sub(r\"\\.(?=[0-9|[a-z]|[A-Z]])\", \".###\", corpus)\n",
    "    corpus = re.sub(r\"\\.###\",\"\", corpus)\n",
    "    corpus = re.sub(r\" +\", \" \", corpus )\n",
    "    corpus = corpus.split(\"\\n\")\n",
    "    return corpus"
   ]
  },
  {
   "cell_type": "code",
   "execution_count": 5,
   "metadata": {},
   "outputs": [],
   "source": [
    "corpus_en = get_clean_corpus(data_en)\n",
    "corpus_pt = get_clean_corpus(data_pt)"
   ]
  },
  {
   "cell_type": "markdown",
   "metadata": {},
   "source": [
    "## Tokenizing"
   ]
  },
  {
   "cell_type": "code",
   "execution_count": 6,
   "metadata": {},
   "outputs": [],
   "source": [
    "tokenizer_en = tfds.deprecated.text.SubwordTextEncoder.build_from_corpus(corpus_en, target_vocab_size=2**13)\n",
    "tokenizer_pt = tfds.deprecated.text.SubwordTextEncoder.build_from_corpus(corpus_pt, target_vocab_size=2**13)"
   ]
  },
  {
   "cell_type": "code",
   "execution_count": 7,
   "metadata": {},
   "outputs": [],
   "source": [
    "VOCAB_SIZE_EN = tokenizer_en.vocab_size + 2\n",
    "VOCAB_SIZE_PT = tokenizer_pt.vocab_size + 2"
   ]
  },
  {
   "cell_type": "code",
   "execution_count": 10,
   "metadata": {},
   "outputs": [],
   "source": [
    "inputs = [\n",
    "    [VOCAB_SIZE_EN - 2] + tokenizer_en.encode(sentence) + [VOCAB_SIZE_EN - 1]\n",
    "    for sentence in corpus_en\n",
    "         ]\n",
    "\n",
    "outputs = [\n",
    "    [VOCAB_SIZE_PT - 2] + tokenizer_pt.encode(sentence) + [VOCAB_SIZE_PT - 1]\n",
    "    for sentence in corpus_pt\n",
    "         ]"
   ]
  },
  {
   "cell_type": "markdown",
   "metadata": {},
   "source": [
    "## Revmoving too long sentences"
   ]
  },
  {
   "cell_type": "code",
   "execution_count": 12,
   "metadata": {},
   "outputs": [],
   "source": [
    "MAX_LENGTH = 20\n",
    "idx_to_remove = [\n",
    "    count for count, sentence in enumerate(inputs)\n",
    "    if len(sentence) > MAX_LENGTH\n",
    "]\n",
    "\n",
    "for idx in reversed(idx_to_remove):\n",
    "    del inputs[idx]\n",
    "    del outputs[idx]\n",
    "\n",
    "idx_to_remove = [\n",
    "    count for count, sentence in enumerate(outputs)\n",
    "    if len(sentence) > MAX_LENGTH\n",
    "]\n",
    "\n",
    "for idx in reversed(idx_to_remove):\n",
    "    del inputs[idx]\n",
    "    del outputs[idx]"
   ]
  },
  {
   "cell_type": "markdown",
   "metadata": {},
   "source": [
    "## Saving input and output data for futher process"
   ]
  },
  {
   "cell_type": "code",
   "execution_count": 15,
   "metadata": {},
   "outputs": [],
   "source": [
    "import pickle\n",
    "\n",
    "def save_data (data, name = 'data.file'):\n",
    "    with open(name, 'wb') as data_file:\n",
    "        pickle.dump(data, data_file)\n",
    "        \n",
    "def load_data(name = 'data.file'):\n",
    "    with open(name, 'rb') as data_file:\n",
    "        data = pickle.load(data_file)\n",
    "    return data"
   ]
  },
  {
   "cell_type": "code",
   "execution_count": 17,
   "metadata": {},
   "outputs": [
    {
     "name": "stdout",
     "output_type": "stream",
     "text": [
      "original sizes (inputs) (oututps)  396085 396085\n",
      "recovered sizes (inputs) (oututps)  396085 396085\n"
     ]
    }
   ],
   "source": [
    "print('original sizes (inputs) (oututps) ', len(inputs), len(outputs))\n",
    "save_data(inputs, 'inputs.dat')\n",
    "save_data(outputs, 'outputs.dat')\n",
    "rec_inputs = load_data('inputs.dat')\n",
    "rec_outputs = load_data('outputs.dat')\n",
    "print('recovered sizes (inputs) (oututps) ', len(rec_inputs), len(rec_outputs))"
   ]
  }
 ],
 "metadata": {
  "kernelspec": {
   "display_name": "Python 3",
   "language": "python",
   "name": "python3"
  },
  "language_info": {
   "codemirror_mode": {
    "name": "ipython",
    "version": 3
   },
   "file_extension": ".py",
   "mimetype": "text/x-python",
   "name": "python",
   "nbconvert_exporter": "python",
   "pygments_lexer": "ipython3",
   "version": "3.8.3"
  }
 },
 "nbformat": 4,
 "nbformat_minor": 4
}
