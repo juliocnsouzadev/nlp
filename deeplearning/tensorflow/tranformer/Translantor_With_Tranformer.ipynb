{
 "cells": [
  {
   "cell_type": "markdown",
   "metadata": {},
   "source": [
    "# Translator with Tranformer"
   ]
  },
  {
   "cell_type": "code",
   "execution_count": 21,
   "metadata": {},
   "outputs": [],
   "source": [
    "import numpy as np\n",
    "import math\n",
    "import re\n",
    "import time\n",
    "import tensorflow as tf\n",
    "from tensorflow.keras import layers\n",
    "import tensorflow_datasets as tfds"
   ]
  },
  {
   "cell_type": "code",
   "execution_count": 22,
   "metadata": {},
   "outputs": [],
   "source": [
    "def open_files():\n",
    "    with open(\n",
    "    '../../../datasets/pt-en/europarl-v7.pt-en.en',\n",
    "    mode = 'r',\n",
    "    encoding = 'utf-8' \n",
    "    ) as file:\n",
    "        data_en = file.read()\n",
    "\n",
    "    with open(\n",
    "        '../../../datasets/pt-en/europarl-v7.pt-en.pt',\n",
    "        mode = 'r',\n",
    "        encoding = 'utf-8' \n",
    "    ) as file:\n",
    "        data_pt = file.read()\n",
    "    return data_en, data_pt"
   ]
  },
  {
   "cell_type": "markdown",
   "metadata": {},
   "source": [
    "## Cleaning data"
   ]
  },
  {
   "cell_type": "code",
   "execution_count": 23,
   "metadata": {},
   "outputs": [],
   "source": [
    "def get_clean_corpus(data):\n",
    "    corpus = data\n",
    "    corpus = re.sub(r\"\\.(?=[0-9|[a-z]|[A-Z]])\", \".###\", corpus)\n",
    "    corpus = re.sub(r\"\\.###\",\"\", corpus)\n",
    "    corpus = re.sub(r\" +\", \" \", corpus )\n",
    "    corpus = corpus.split(\"\\n\")\n",
    "    return corpus"
   ]
  },
  {
   "cell_type": "markdown",
   "metadata": {},
   "source": [
    "## Tokenizing"
   ]
  },
  {
   "cell_type": "code",
   "execution_count": 24,
   "metadata": {},
   "outputs": [],
   "source": [
    "def tokenizing():\n",
    "    tokenizer_en = tfds.deprecated.text.SubwordTextEncoder.build_from_corpus(corpus_en, target_vocab_size=2**13)\n",
    "    tokenizer_pt = tfds.deprecated.text.SubwordTextEncoder.build_from_corpus(corpus_pt, target_vocab_size=2**13)\n",
    "    return tokenizer_en, tokenizer_pt"
   ]
  },
  {
   "cell_type": "code",
   "execution_count": 25,
   "metadata": {},
   "outputs": [],
   "source": [
    "def get_vocab_sizes():\n",
    "    VOCAB_SIZE_EN = tokenizer_en.vocab_size + 2\n",
    "    VOCAB_SIZE_PT = tokenizer_pt.vocab_size + 2\n",
    "    return VOCAB_SIZE_EN, VOCAB_SIZE_PT"
   ]
  },
  {
   "cell_type": "code",
   "execution_count": 26,
   "metadata": {},
   "outputs": [],
   "source": [
    "def get_inputs_and_outputs():\n",
    "    inputs = [\n",
    "    [VOCAB_SIZE_EN - 2] + tokenizer_en.encode(sentence) + [VOCAB_SIZE_EN - 1]\n",
    "    for sentence in corpus_en\n",
    "    ]\n",
    "\n",
    "    outputs = [\n",
    "        [VOCAB_SIZE_PT - 2] + tokenizer_pt.encode(sentence) + [VOCAB_SIZE_PT - 1]\n",
    "        for sentence in corpus_pt\n",
    "    ]\n",
    "    return inputs , outputs"
   ]
  },
  {
   "cell_type": "markdown",
   "metadata": {},
   "source": [
    "## Revmoving too long sentences"
   ]
  },
  {
   "cell_type": "code",
   "execution_count": 27,
   "metadata": {},
   "outputs": [],
   "source": [
    "MAX_LENGTH = 20\n",
    "def remove_too_long_sentences():\n",
    "    idx_to_remove = [\n",
    "        count for count, sentence in enumerate(inputs)\n",
    "        if len(sentence) > MAX_LENGTH\n",
    "    ]\n",
    "\n",
    "    for idx in reversed(idx_to_remove):\n",
    "        del inputs[idx]\n",
    "        del outputs[idx]\n",
    "\n",
    "    idx_to_remove = [\n",
    "        count for count, sentence in enumerate(outputs)\n",
    "        if len(sentence) > MAX_LENGTH\n",
    "    ]\n",
    "\n",
    "    for idx in reversed(idx_to_remove):\n",
    "        del inputs[idx]\n",
    "        del outputs[idx]\n",
    "    return inputs, outputs"
   ]
  },
  {
   "cell_type": "markdown",
   "metadata": {},
   "source": [
    "## Saving input and output data for futher process"
   ]
  },
  {
   "cell_type": "code",
   "execution_count": 28,
   "metadata": {},
   "outputs": [],
   "source": [
    "import pickle\n",
    "\n",
    "def save_data (data, name = 'data.file'):\n",
    "    with open(name, 'wb') as data_file:\n",
    "        pickle.dump(data, data_file)\n",
    "        \n",
    "def load_data(name = 'data.file'):\n",
    "    with open(name, 'rb') as data_file:\n",
    "        data = pickle.load(data_file)\n",
    "    return data"
   ]
  },
  {
   "cell_type": "code",
   "execution_count": 29,
   "metadata": {},
   "outputs": [],
   "source": [
    "def process_and_save():\n",
    "    data_en, data_pt = open_files()\n",
    "    corpus_en = get_clean_corpus(data_en)\n",
    "    corpus_pt = get_clean_corpus(data_pt)\n",
    "    tokenizer_en, tokenizer_pt = tokenizing()\n",
    "    VOCAB_SIZE_EN, VOCAB_SIZE_PT = get_vocab_sizes()\n",
    "    inputs , outputs = get_inputs_and_outputs()\n",
    "    inputs , outputs = remove_too_long_sentences()\n",
    "    save_data(inputs, 'inputs.dat')\n",
    "    save_data(outputs, 'outputs.dat')"
   ]
  },
  {
   "cell_type": "code",
   "execution_count": 30,
   "metadata": {},
   "outputs": [],
   "source": [
    "is_not_saved = False\n",
    "if is_not_saved:\n",
    "    process_and_save()"
   ]
  },
  {
   "cell_type": "code",
   "execution_count": 31,
   "metadata": {},
   "outputs": [
    {
     "name": "stdout",
     "output_type": "stream",
     "text": [
      "recovered sizes (inputs) (oututps)  396085 396085\n"
     ]
    }
   ],
   "source": [
    "rec_inputs = load_data('inputs.dat')\n",
    "rec_outputs = load_data('outputs.dat')\n",
    "print('recovered sizes (inputs) (oututps) ', len(rec_inputs), len(rec_outputs))"
   ]
  },
  {
   "cell_type": "markdown",
   "metadata": {},
   "source": [
    "## Padding"
   ]
  },
  {
   "cell_type": "code",
   "execution_count": 32,
   "metadata": {},
   "outputs": [],
   "source": [
    "inputs = tf.keras.preprocessing.sequence.pad_sequences(\n",
    "    rec_inputs, \n",
    "    value=0,\n",
    "    padding='post',\n",
    "    maxlen=20\n",
    ")\n",
    "\n",
    "outputs = tf.keras.preprocessing.sequence.pad_sequences(\n",
    "    rec_outputs, \n",
    "    value=0,\n",
    "    padding='post',\n",
    "    maxlen=20\n",
    ")"
   ]
  },
  {
   "cell_type": "markdown",
   "metadata": {},
   "source": [
    "## Build Dataset"
   ]
  },
  {
   "cell_type": "code",
   "execution_count": 33,
   "metadata": {},
   "outputs": [],
   "source": [
    "BATCH_SIZE = 64\n",
    "BUFFER_SIZE = 20000\n",
    "\n",
    "dataset = tf.data.Dataset.from_tensor_slices((inputs, outputs))\n",
    "dataset = dataset.cache()\n",
    "dataset = dataset.shuffle(BUFFER_SIZE).batch(BATCH_SIZE)\n",
    "dataset = dataset.prefetch(tf.data.experimental.AUTOTUNE)"
   ]
  },
  {
   "cell_type": "markdown",
   "metadata": {},
   "source": [
    "## Build Model"
   ]
  },
  {
   "cell_type": "markdown",
   "metadata": {},
   "source": [
    "### Embedding\n",
    "\n",
    "### Positional encoding formulae:\n",
    "\n",
    "### $PE_{(pos,2i)} =\\sin(pos/10000^{2i/dmodel})$ (even numbers)\n",
    "\n",
    "### $PE_{(pos,2i+1)} =\\cos(pos/10000^{2i/dmodel})$ (odd numbers)"
   ]
  },
  {
   "cell_type": "code",
   "execution_count": 34,
   "metadata": {},
   "outputs": [],
   "source": [
    "class PositionalEncoding(layers.Layer):\n",
    "    \n",
    "    def __init__(self):\n",
    "        super(PositionalEncoding, self).__init__()\n",
    "        \n",
    "    def get_angles(self, pos, i, d_model):\n",
    "        angles = 1 / np.power(\n",
    "            10000., \n",
    "            (2 * (i/2) / np.float32(d_model) )\n",
    "        )\n",
    "        return pos * angles\n",
    "    \n",
    "    def call(self, inputs):\n",
    "        inputs_shape_list = inputs.shape.as_list()\n",
    "        seq_length = inputs_shape_list[-2]\n",
    "        d_model = inputs_shape_list[-1]\n",
    "        pos = np.arange(seq_length)[:, np.newaxis]                            \n",
    "        i = np.arange(d_model)[np.newaxis, :]\n",
    "        angles = self.get_angles(pos,i,d_model)\n",
    "        angles[:, 0::2] = np.sin(angles[:, 0::2])\n",
    "        angles[:, 1::2] = np.cos(angles[:, 1::2])\n",
    "        pos_encoding = angles[np.newaxis, ...]\n",
    "        return inputs + tf.cast(pos_encoding, tf.float32)\n",
    "            "
   ]
  },
  {
   "cell_type": "markdown",
   "metadata": {},
   "source": [
    "### Attention"
   ]
  },
  {
   "cell_type": "code",
   "execution_count": 35,
   "metadata": {},
   "outputs": [],
   "source": [
    "def scaled_dot_product_attention(queries, keys, values, mask):\n",
    "    product = tf.matmul(queries, keys, transpose_b=True)\n",
    "    keys_dimmention = tv.cast(tf.shape(keys)[-1], tf.float32)\n",
    "    scaled_product = product / tf.math.sqrt(keys_dimmention)\n",
    "    if mask is not None:\n",
    "        scaled_product += (mask * -1e9)\n",
    "    attention = tf.matmul(tf.nn.softmax(scaled_product, axis=1), values)\n",
    "    return attention"
   ]
  }
 ],
 "metadata": {
  "kernelspec": {
   "display_name": "Python 3",
   "language": "python",
   "name": "python3"
  },
  "language_info": {
   "codemirror_mode": {
    "name": "ipython",
    "version": 3
   },
   "file_extension": ".py",
   "mimetype": "text/x-python",
   "name": "python",
   "nbconvert_exporter": "python",
   "pygments_lexer": "ipython3",
   "version": "3.8.3"
  }
 },
 "nbformat": 4,
 "nbformat_minor": 4
}
